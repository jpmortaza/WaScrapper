{
  "nbformat": 4,
  "nbformat_minor": 0,
  "metadata": {
    "colab": {
      "provenance": [],
      "collapsed_sections": [
        "JgMnSgGKXHKB"
      ],
      "authorship_tag": "ABX9TyPtWzMoTbiWW0JUW4jobbxi"
    },
    "kernelspec": {
      "name": "python3",
      "display_name": "Python 3"
    },
    "language_info": {
      "name": "python"
    }
  },
  "cells": [
    {
      "cell_type": "markdown",
      "source": [
        "#  **WaScrapper**\n",
        "Busque por grupos de WhatsApp por palavra chave, e verifique quais desses links ainda estão ativos. \n",
        "\n",
        "Também é possível copiar links para dentro do arquivo links.txt e verificar quais ainda estão válidos. \n"
      ],
      "metadata": {
        "id": "QvWerWI_WkEX"
      }
    },
    {
      "cell_type": "markdown",
      "source": [
        "# _bibliotecas"
      ],
      "metadata": {
        "id": "JgMnSgGKXHKB"
      }
    },
    {
      "cell_type": "code",
      "source": [
        "from bs4 import BeautifulSoup\n",
        "import re\n",
        "from lxml import etree\n",
        "import requests"
      ],
      "metadata": {
        "id": "4ofA2jMZkNAr"
      },
      "execution_count": null,
      "outputs": []
    },
    {
      "cell_type": "markdown",
      "source": [
        "# _scrap - novos grupos\n"
      ],
      "metadata": {
        "id": "BxCqSU3rXRSW"
      }
    },
    {
      "cell_type": "code",
      "source": [
        "#BUSCA LINKS DE GRUPOS DIRETAMENTE NO DOMINIO DO WHATSAPP \n",
        "\n",
        "buscar = \"brasil\"\n",
        "\n",
        "x = 0\n",
        "\n",
        "while x <= 70:\n",
        "  url = f'https://www.google.co.ve/search?q=+{buscar}+site:https://chat.whatsapp.com/*&newwindow=1&start={x}&newwindow=1&filter=0&biw=1920&bih=1009&dpr=1'\n",
        "  HEADERS = ({'User-Agent':\n",
        "            'Mozilla/5.0 (X11; Linux x86_64) AppleWebKit/537.36 \\\n",
        "            (KHTML, like Gecko) Chrome/44.0.2403.157 Safari/537.36',\\\n",
        "            'Accept-Language': 'pt-BR, pt;q=0.5'})\n",
        "  request_result=requests.get( url, headers=HEADERS)\n",
        "  soup = BeautifulSoup(request_result.text,\"html.parser\")\n",
        "  links_page=soup.find_all( 'h3' )\n",
        "  x +=10\n",
        "  for info in links_page:\n",
        "      link_grupo = info.getText()\n",
        "      arquivo = open(\"/content/links.txt\", \"a\")\n",
        "      grupos = link_grupo\n",
        "      arquivo.write(f\"\\n{grupos}\")\n",
        "      print(link_grupo)"
      ],
      "metadata": {
        "id": "9uOa9NxZI7dr",
        "colab": {
          "base_uri": "https://localhost:8080/"
        },
        "outputId": "46a34546-a752-46fc-c6dc-ac0937daa80a"
      },
      "execution_count": null,
      "outputs": [
        {
          "output_type": "stream",
          "name": "stdout",
          "text": [
            "https://chat.whatsapp.com/invite/FC04tyGnugODREiaN...\n",
            "https://chat.whatsapp.com/Koiv1cA2JiBC8XACsbbTSs\n",
            "https://chat.whatsapp.com/invite/0SHzc6TEf4jJ8Ki9r...\n",
            "https://chat.whatsapp.com/IO8p80ITubJAmsMOJLw3pb\n",
            "https://chat.whatsapp.com/4n4Pi9OChlcE0ZzpPRy4x1\n",
            "https://chat.whatsapp.com/Hyjleok1c8B7dzcdujTC6E\n",
            "https://chat.whatsapp.com/invite/KmlQbFwM3Lu9nxZrB...\n",
            "https://chat.whatsapp.com/DBJVMHogMHFGt5H3nreFiF\n",
            "https://chat.whatsapp.com/KBSFr7K90JV5f3iAydpf0q\n",
            "https://chat.whatsapp.com/Cs1uyLCaoPRDUWmIZVboBw\n",
            "https://chat.whatsapp.com/1wTj7UsqwDD6t8nK8sbRgR\n",
            "https://chat.whatsapp.com/IpspmTCdHWH3Eij1ZctbRW\n",
            "https://chat.whatsapp.com/CZf0KPaDpUG2tYdGhZSb6Y\n",
            "https://chat.whatsapp.com/CKxMpJbc1mR90ILoPWV8Mn\n",
            "https://chat.whatsapp.com/Bz5G893ZfZaJ79INGegsLo\n",
            "https://chat.whatsapp.com/H6tTBqRx0n4FnohOeHQpON\n",
            "https://chat.whatsapp.com/KTGX0pVWB1GEahynkBOmJp\n",
            "https://chat.whatsapp.com/CVAlJIowJiRAdFYnqMuUn3\n",
            "https://chat.whatsapp.com/FohvnGB96P9KDvbnqbYp9p\n",
            "https://chat.whatsapp.com/EkgG8RfVVhJ2UtbZVguJ0P\n",
            "https://chat.whatsapp.com/invite/Ffl07xdfXPLDHDMMR...\n",
            "https://chat.whatsapp.com/invite/LCJBc3STebh1qlIsK...\n",
            "https://chat.whatsapp.com/GuTKTYkiR1R8FOzB8IqASe/\n",
            "https://chat.whatsapp.com/DAsQlylsDOa1pAL9WsE1fq\n",
            "https://chat.whatsapp.com/Ey0egLSiHzgHxOw3dBV2Pi\n",
            "https://chat.whatsapp.com/BiUqhCr1TuG2br9mX6F96k\n",
            "https://chat.whatsapp.com/invite/GzH2675PSSi0m4LEz...\n",
            "https://chat.whatsapp.com/HY24O4yDp2BFSmeyVsgta0\n",
            "https://chat.whatsapp.com/HA74fR3PiN1AOcPsVZjBaT\n",
            "https://chat.whatsapp.com/AIn42FPubKOFZQDEl1y2DY\n",
            "https://chat.whatsapp.com/ILtP1KNeQ5QCWnMUsYZjNI\n",
            "https://chat.whatsapp.com/KMYcS5jawNFLw1y94TU7Wu\n",
            "https://chat.whatsapp.com/GMn7Y2Tum7M9dOjhh5EsN7\n",
            "https://chat.whatsapp.com/LKkWg8ECVe0BPbKdI2otlN\n",
            "https://chat.whatsapp.com/LRCX73KJjLM7aEJflESi2y\n",
            "https://chat.whatsapp.com/DlOpJHIkHBeEyrncuWQ2KE\n",
            "https://chat.whatsapp.com/KR81LzTGLhIBSSkbatxycl\n",
            "https://chat.whatsapp.com/GsFpVFuvtSnKe0mb5RvEnF\n",
            "https://chat.whatsapp.com/BTXFE0MoBjx5JyhPtgsGhL\n",
            "https://chat.whatsapp.com/FBC6vRmFdVlKbCy6zejeqW\n",
            "https://chat.whatsapp.com/HhdbmYu3R6g53u3imdyZkZ\n"
          ]
        }
      ]
    },
    {
      "cell_type": "code",
      "source": [
        "#BUSCA LINKS DE GRUPOS UTILIZANDO EM DIVERSOS SITES, UTILIZA O GOOGLE\n",
        "\n",
        "buscar = \"brasil\"\n",
        "site = \"facebook.com\"\n",
        "\n",
        "x = 0\n",
        "\n",
        "while x <= 100:\n",
        "  url = f'https://www.google.com/search?q=site:{site}+{buscar}+https://chat.whatsapp.com&rlz=1C1FCXM_pt-PTBR997BR997&ei=VOmhY8OoH6_e1sQP9_WpqAQ&start={x}'  \n",
        "  HEADERS = ({'User-Agent':\n",
        "            'Mozilla/5.0 (X11; Linux x86_64) AppleWebKit/537.36 \\\n",
        "            (KHTML, like Gecko) Chrome/44.0.2403.157 Safari/537.36',\\\n",
        "            'Accept-Language': 'pt-BR, pt;q=0.5'})\n",
        "  request_result=requests.get(url, headers=HEADERS)\n",
        "  soup = BeautifulSoup(request_result.text,\"html.parser\")\n",
        "  soup = str(soup)\n",
        "  links_page = re.findall(r\"(https:\\/\\/chat\\.whatsapp\\.com\\/(invite\\/)?[a-zA-Z0-9]{22})\", soup) \n",
        "  x +=10\n",
        "  for links in links_page:\n",
        "    links = list(links)\n",
        "    arquivo = open(\"/content/links.txt\", \"a\")\n",
        "    arquivo.write(f\"\\n{links[0]}\")\n",
        "    print(links[0])"
      ],
      "metadata": {
        "id": "dlqnSU5s9Cdd",
        "colab": {
          "base_uri": "https://localhost:8080/"
        },
        "outputId": "dc58e686-3f50-49f0-8a5a-bf6a909c065a"
      },
      "execution_count": null,
      "outputs": [
        {
          "output_type": "stream",
          "name": "stdout",
          "text": [
            "https://chat.whatsapp.com/DQKWr9pmgl9DeteWZWbbZ3\n",
            "https://chat.whatsapp.com/HTzDLzziNsR9it3T7Redvn\n",
            "https://chat.whatsapp.com/IsPMBb0uONCAVu2HY01Weh\n",
            "https://chat.whatsapp.com/JH8kGBs1rnRJgrFLC4mOjW\n",
            "https://chat.whatsapp.com/KV4YJFKsYGf6OUPIzphOob\n",
            "https://chat.whatsapp.com/H0U1UINlw960lHMZxE8OlW\n",
            "https://chat.whatsapp.com/EivBMDQzQRSKY61iROBjfW\n",
            "https://chat.whatsapp.com/Boj8tIckfXy1AKVQhWPYSw\n",
            "https://chat.whatsapp.com/Iptc6iz0CZa2e9NKgRxwgj\n",
            "https://chat.whatsapp.com/JH8kGBs1rnRJgrFLC4mOjW\n",
            "https://chat.whatsapp.com/KV4YJFKsYGf6OUPIzphOob\n",
            "https://chat.whatsapp.com/FvsN2q6VD7sHSIPstlLB4Y\n",
            "https://chat.whatsapp.com/40eR3Svwdy52C9jA7zM2fs\n",
            "https://chat.whatsapp.com/H0U1UINlw960lHMZxE8OlW\n",
            "https://chat.whatsapp.com/5x9xIvFvH3bHDnHX2thFmt\n",
            "https://chat.whatsapp.com/D96FFsB0d7XCrUE59pNBEo\n",
            "https://chat.whatsapp.com/KYHwJPIRYzsBnnEJhvMjt5\n",
            "https://chat.whatsapp.com/KHT5BfNnKnCGR4RiRyE5B6\n",
            "https://chat.whatsapp.com/LYWwurlDErb1MvtOUq3mIH\n",
            "https://chat.whatsapp.com/K4jAkos9HAFIi7JdCM0kHs\n",
            "https://chat.whatsapp.com/Ko252tsP1J75wMpNkcLNak\n",
            "https://chat.whatsapp.com/Ko252tsP1J75wMpNkcLNak\n",
            "https://chat.whatsapp.com/J2ZcgRv7Kfs1OGzMaiftsW\n",
            "https://chat.whatsapp.com/KRzPF1TyvTOCEPj9sjOS1q\n",
            "https://chat.whatsapp.com/G9GuAkFxUbf194vW50OSck\n",
            "https://chat.whatsapp.com/0tl6JUS3lpy0k3vSFBEDr4\n",
            "https://chat.whatsapp.com/KdbKiZFbnlh7LEbi0nVkQc\n",
            "https://chat.whatsapp.com/DQ56L5PD9xp8pa1JH1vSYR\n",
            "https://chat.whatsapp.com/ECWiFAtGeVu1alPFjr9ufk\n",
            "https://chat.whatsapp.com/invite/BBivGjASY5NGnfxBb4bsSH\n",
            "https://chat.whatsapp.com/LOreynIeO7MIWhwHgHGkN7\n",
            "https://chat.whatsapp.com/Jj3gVZTwSsRBd9XpsMT4pq\n",
            "https://chat.whatsapp.com/IiXvsCNfBjN7Ufvgb2qJKn\n",
            "https://chat.whatsapp.com/LxiJSqebbi5Bdqipmr3zbi\n",
            "https://chat.whatsapp.com/5rfBA3BbXBy21bKKzvRYt8\n",
            "https://chat.whatsapp.com/DLIc5h56aZ3HXIYHearZCW\n",
            "https://chat.whatsapp.com/LxiJSqebbi5Bdqipmr3zbi\n",
            "https://chat.whatsapp.com/3ntPE8a3ZyAHMpVwsAux64\n",
            "https://chat.whatsapp.com/CfW6KQVmuy6DdvcpJhUCW6\n",
            "https://chat.whatsapp.com/LOreynIeO7MIWhwHgHGkN7\n",
            "https://chat.whatsapp.com/DZMeb4pwD9OLe7OYjwMIjv\n",
            "https://chat.whatsapp.com/CgJVrUVhZrjJ95wyVxHPPF\n",
            "https://chat.whatsapp.com/Es4SpFbZ0S16rX0BpsvVcm\n",
            "https://chat.whatsapp.com/LuupD2j1kt42fXM9wjoFhr\n",
            "https://chat.whatsapp.com/J3j3D8XGJNcCdpttftvI8q\n",
            "https://chat.whatsapp.com/DZMeb4pwD9OLe7OYjwMIjv\n",
            "https://chat.whatsapp.com/IE4OAYIPOkyIypSc1iK43D\n",
            "https://chat.whatsapp.com/26ZQtKYSObz9HVQnGkN1e0\n",
            "https://chat.whatsapp.com/26ZQtKYSObz9HVQnGkN1e0\n",
            "https://chat.whatsapp.com/Kmvh7WAU32wK09YefgJN1E\n",
            "https://chat.whatsapp.com/Iwo1wUHakTJ72UW3ZjSE17\n",
            "https://chat.whatsapp.com/H0U1UINlw960lHMZxE8OlW\n",
            "https://chat.whatsapp.com/1PcLIMtrt0F5yMaJO496hX\n",
            "https://chat.whatsapp.com/ELJIxlqBiuNAJSwZCZ9GWo\n",
            "https://chat.whatsapp.com/LXJtAtT6IdMLrV3zvtroyJ\n",
            "https://chat.whatsapp.com/CvX3jVUBqwh8p4lEfByF6p\n",
            "https://chat.whatsapp.com/IQnVI433YRpL8Ihl8cHssw\n",
            "https://chat.whatsapp.com/JSmSuP3AN3KKd7gbsW3jXz\n",
            "https://chat.whatsapp.com/CWHst6MhEp7HDSiO5KBcOR\n",
            "https://chat.whatsapp.com/3vZtkorMGlaCB4GRgEw8HS\n",
            "https://chat.whatsapp.com/2OMWasWN5er9ocoDkAqr3L\n",
            "https://chat.whatsapp.com/JeUUQSOH8uE47NEQaIEYSp\n",
            "https://chat.whatsapp.com/Jq3zIjFt8BG85jj3V4KxbP\n",
            "https://chat.whatsapp.com/7VBG35fEF160W6gJmIbQA8\n",
            "https://chat.whatsapp.com/KTNYdS6wcFe3AhAEVRZmSl\n",
            "https://chat.whatsapp.com/IgTuUSvy52b8OEuAdt4s49\n",
            "https://chat.whatsapp.com/KH1v5WvTUGODNrG7d5qow9\n",
            "https://chat.whatsapp.com/JEkUpIVDgBoFdfnVUmu4qs\n",
            "https://chat.whatsapp.com/KgjnvHC8rc6FDbQwid6ir7\n",
            "https://chat.whatsapp.com/KHT5BfNnKnCGR4RiRyE5B6\n",
            "https://chat.whatsapp.com/IgdaCqEsyPH6abDF0cVr9h\n",
            "https://chat.whatsapp.com/IT2Wn61iDmd031UaYSqzvP\n",
            "https://chat.whatsapp.com/JJcPozI8wEs3MHYG8CH47Y\n",
            "https://chat.whatsapp.com/IT2Wn61iDmd031UaYSqzvP\n",
            "https://chat.whatsapp.com/JJcPozI8wEs3MHYG8CH47Y\n",
            "https://chat.whatsapp.com/Ekp1Vaqp2sM7dsI94EBNZs\n",
            "https://chat.whatsapp.com/2hZK9girxbI1VTsmmfNEAR\n",
            "https://chat.whatsapp.com/EEeSyQQGjSS2KcJgDdPcWi\n",
            "https://chat.whatsapp.com/FK5xoJjwynoLPljNvm8r0i\n",
            "https://chat.whatsapp.com/KUYAQJZzgGx6OvlCD1I1qT\n",
            "https://chat.whatsapp.com/HsqfcyE8MsoDDhuRb6yPc9\n",
            "https://chat.whatsapp.com/AqmlPfn2a9C85O3J29XX7p\n",
            "https://chat.whatsapp.com/DhFExuHrChtCHNqjttSgqx\n",
            "https://chat.whatsapp.com/GhF1ehOtXk92vLJuhG2313\n",
            "https://chat.whatsapp.com/BYsiLHAtg708bDGTKYBTjO\n",
            "https://chat.whatsapp.com/D7zXTMpiGUMBw4c9sHfq5w\n",
            "https://chat.whatsapp.com/CMrtFUvHBUuA86gEIgiKr2\n",
            "https://chat.whatsapp.com/ITj2VVd6XNh4SljZLaDFKR\n",
            "https://chat.whatsapp.com/DsQZZjpLhMqLd9DGVYZzAI\n",
            "https://chat.whatsapp.com/G1wluyZX7hdD84je6eW7Ro\n",
            "https://chat.whatsapp.com/DOFWIhL4ZZL25lQJ8GSJaO\n",
            "https://chat.whatsapp.com/3ntPE8a3ZyAHMpVwsAux64\n",
            "https://chat.whatsapp.com/KEfDALR9l5O58puAwWRcks\n",
            "https://chat.whatsapp.com/3VEd6xYrIZlJCU9dcpZP9u\n",
            "https://chat.whatsapp.com/EThF5bheGGdAJ2mAoJ26r1\n",
            "https://chat.whatsapp.com/K1MgLRDWXLSFItN8ISSFr1\n",
            "https://chat.whatsapp.com/KTNYdS6wcFe3AhAEVRZmSl\n",
            "https://chat.whatsapp.com/HPsedTGyii3D65zfiFxu8H\n",
            "https://chat.whatsapp.com/KQHMVvYh5NHDAl6Oq5shBB\n"
          ]
        }
      ]
    },
    {
      "cell_type": "code",
      "source": [
        "#BUSCA LINKS DE GRUPOS EM SITES\n",
        "\n",
        "url = \"https://www.pinterest.com/httpschatwhatsappcomfrzuzgvw8g/\"  \n",
        "request_result=requests.get(url)\n",
        "soup = BeautifulSoup(request_result.text,\"html.parser\")\n",
        "soup = str(soup)\n",
        "links_page = re.findall(r\"(https:\\/\\/chat\\.whatsapp\\.com\\/(invite\\/)?[a-zA-Z0-9]{22})\", soup) \n",
        "\n",
        "print(links_page)"
      ],
      "metadata": {
        "id": "yoTabzQi9jUT"
      },
      "execution_count": null,
      "outputs": []
    },
    {
      "cell_type": "markdown",
      "source": [
        "# _verificar links válidos"
      ],
      "metadata": {
        "id": "ciIMGa1dXZTK"
      }
    },
    {
      "cell_type": "code",
      "source": [
        "#FUNCIONANDO -- LEITURA DOS LINKS E VERIFICAÇÃO SE SÃO OU NÃO VÁLIDOS\n",
        "\n",
        "links = open('links.txt') #abre o arquivo links\n",
        "link = links.readlines()\n",
        "qtd = len(link) #conta quantas linhas tem o arquivo pa\n",
        "i = 0\n",
        "\n",
        "while i <= qtd -1:\n",
        "  url = link[i] #percorre cada um dos links\n",
        "  url = url[:-1] #retira o /n do final do link\n",
        "  HEADERS = ({'User-Agent':\n",
        "            'Mozilla/5.0 (X11; Linux x86_64) AppleWebKit/537.36 \\\n",
        "            (KHTML, like Gecko) Chrome/44.0.2403.157 Safari/537.36',\\\n",
        "            'Accept-Language': 'pt-BR, pt;q=0.5'})\n",
        "  webpage = requests.get(url, headers=HEADERS)\n",
        "  soup = BeautifulSoup(webpage.content, \"html.parser\")\n",
        "  dom = etree.HTML(str(soup))\n",
        "  nome_grupo = (dom.xpath('//*[@id=\"main_block\"]/h3')[0].text)\n",
        "  arquivo = open(\"/content/links_validos.txt\", \"a\") # salva url e nome\n",
        "\n",
        "  grupos = nome_grupo,url\n",
        "  if nome_grupo != None: #exclui os grupos inválidos\n",
        "    arquivo.write(f\"\\n{grupos}\") #escreve no arquivo somente os grupos válidos\n",
        "  i +=1"
      ],
      "metadata": {
        "id": "C5fUeYkQ1l2g"
      },
      "execution_count": null,
      "outputs": []
    }
  ]
}