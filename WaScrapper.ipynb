{
  "nbformat": 4,
  "nbformat_minor": 0,
  "metadata": {
    "colab": {
      "provenance": [],
      "authorship_tag": "ABX9TyMoa+u2iYEFAXTJMk81GIVa",
      "include_colab_link": true
    },
    "kernelspec": {
      "name": "python3",
      "display_name": "Python 3"
    },
    "language_info": {
      "name": "python"
    }
  },
  "cells": [
    {
      "cell_type": "markdown",
      "metadata": {
        "id": "view-in-github",
        "colab_type": "text"
      },
      "source": [
        "<a href=\"https://colab.research.google.com/github/jpmortaza/WaScrapper/blob/main/WaScrapper.ipynb\" target=\"_parent\"><img src=\"https://colab.research.google.com/assets/colab-badge.svg\" alt=\"Open In Colab\"/></a>"
      ]
    },
    {
      "cell_type": "markdown",
      "source": [
        "#  **WaScrapper**\n",
        "Busque por grupos de WhatsApp por palavra chave, e verifique quais desses links ainda estão ativos. \n",
        "\n",
        "Também é possível copiar links para dentro do arquivo links.txt e verificar quais ainda estão válidos. \n"
      ],
      "metadata": {
        "id": "QvWerWI_WkEX"
      }
    },
    {
      "cell_type": "markdown",
      "source": [
        "# _bibliotecas"
      ],
      "metadata": {
        "id": "JgMnSgGKXHKB"
      }
    },
    {
      "cell_type": "code",
      "source": [
        "from bs4 import BeautifulSoup\n",
        "import re\n",
        "from lxml import etree\n",
        "import requests"
      ],
      "metadata": {
        "id": "4ofA2jMZkNAr"
      },
      "execution_count": null,
      "outputs": []
    },
    {
      "cell_type": "markdown",
      "source": [
        "# _scrap - novos grupos\n"
      ],
      "metadata": {
        "id": "BxCqSU3rXRSW"
      }
    },
    {
      "cell_type": "code",
      "source": [
        "buscar = \"brasil\"\n",
        "\n",
        "x = 0\n",
        "\n",
        "while x <= 70:\n",
        "  url = f'https://www.google.co.ve/search?q=+{buscar}+site:https://chat.whatsapp.com/*&newwindow=1&start={x}&newwindow=1&filter=0&biw=1920&bih=1009&dpr=1'\n",
        "  HEADERS = ({'User-Agent':\n",
        "            'Mozilla/5.0 (X11; Linux x86_64) AppleWebKit/537.36 \\\n",
        "            (KHTML, like Gecko) Chrome/44.0.2403.157 Safari/537.36',\\\n",
        "            'Accept-Language': 'pt-BR, pt;q=0.5'})\n",
        "  request_result=requests.get( url, headers=HEADERS)\n",
        "  soup = BeautifulSoup(request_result.text,\"html.parser\")\n",
        "  links_page=soup.find_all( 'h3' )\n",
        "  x +=10\n",
        "  for info in links_page:\n",
        "      link_grupo = info.getText()\n",
        "      arquivo = open(\"/content/links.txt\", \"a\")\n",
        "      grupos = link_grupo\n",
        "      arquivo.write(f\"\\n{grupos}\")\n",
        "      print(link_grupo)"
      ],
      "metadata": {
        "id": "9uOa9NxZI7dr"
      },
      "execution_count": null,
      "outputs": []
    },
    {
      "cell_type": "code",
      "source": [
        "buscar = \"brasil\"\n",
        "site = \"facebook.com\"\n",
        "\n",
        "x = 0\n",
        "\n",
        "while x <= 100:\n",
        "  url = f'https://www.google.com/search?q=site:{site}+{buscar}+https://chat.whatsapp.com&rlz=1C1FCXM_pt-PTBR997BR997&ei=VOmhY8OoH6_e1sQP9_WpqAQ&start={x}'  \n",
        "  HEADERS = ({'User-Agent':\n",
        "            'Mozilla/5.0 (X11; Linux x86_64) AppleWebKit/537.36 \\\n",
        "            (KHTML, like Gecko) Chrome/44.0.2403.157 Safari/537.36',\\\n",
        "            'Accept-Language': 'pt-BR, pt;q=0.5'})\n",
        "  request_result=requests.get(url, headers=HEADERS)\n",
        "  soup = BeautifulSoup(request_result.text,\"html.parser\")\n",
        "  soup = str(soup)\n",
        "  links_page = re.findall(r\"(https:\\/\\/chat\\.whatsapp\\.com\\/(invite\\/)?[a-zA-Z0-9]{22})\", soup) \n",
        "  x +=10\n",
        "  for links in links_page:\n",
        "    links = list(links)\n",
        "    arquivo = open(\"/content/links.txt\", \"a\")\n",
        "    arquivo.write(f\"\\n{links[0]}\")\n",
        "    print(links[0])"
      ],
      "metadata": {
        "id": "dlqnSU5s9Cdd"
      },
      "execution_count": null,
      "outputs": []
    },
    {
      "cell_type": "code",
      "source": [
        "url = \"https://www.pinterest.com/httpschatwhatsappcomfrzuzgvw8g/\"  \n",
        "request_result=requests.get(url)\n",
        "soup = BeautifulSoup(request_result.text,\"html.parser\")\n",
        "soup = str(soup)\n",
        "links_page = re.findall(r\"(https:\\/\\/chat\\.whatsapp\\.com\\/(invite\\/)?[a-zA-Z0-9]{22})\", soup) \n",
        "\n",
        "print(links_page)"
      ],
      "metadata": {
        "id": "yoTabzQi9jUT"
      },
      "execution_count": null,
      "outputs": []
    },
    {
      "cell_type": "markdown",
      "source": [
        "# _verificar links válidos"
      ],
      "metadata": {
        "id": "ciIMGa1dXZTK"
      }
    },
    {
      "cell_type": "code",
      "source": [
        "links = open('links.txt') \n",
        "link = links.readlines()\n",
        "qtd = len(link) \n",
        "i = 0\n",
        "\n",
        "while i <= qtd -1:\n",
        "  url = link[i] \n",
        "  url = url[:-1] \n",
        "  HEADERS = ({'User-Agent':\n",
        "            'Mozilla/5.0 (X11; Linux x86_64) AppleWebKit/537.36 \\\n",
        "            (KHTML, like Gecko) Chrome/44.0.2403.157 Safari/537.36',\\\n",
        "            'Accept-Language': 'pt-BR, pt;q=0.5'})\n",
        "  webpage = requests.get(url, headers=HEADERS)\n",
        "  soup = BeautifulSoup(webpage.content, \"html.parser\")\n",
        "  dom = etree.HTML(str(soup))\n",
        "  nome_grupo = (dom.xpath('//*[@id=\"main_block\"]/h3')[0].text)\n",
        "  arquivo = open(\"/content/links_validos.txt\", \"a\") \n",
        "\n",
        "  grupos = nome_grupo,url\n",
        "  if nome_grupo != None: \n",
        "    arquivo.write(f\"\\n{grupos}\") \n",
        "  i +=1"
      ],
      "metadata": {
        "id": "C5fUeYkQ1l2g"
      },
      "execution_count": null,
      "outputs": []
    }
  ]
}